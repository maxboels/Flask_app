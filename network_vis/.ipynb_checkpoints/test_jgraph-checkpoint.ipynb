{
 "cells": [
  {
   "cell_type": "code",
   "execution_count": null,
   "metadata": {},
   "outputs": [],
   "source": [
    "import jgraph\n",
    "\n",
    "import json\n",
    "\n",
    "# with open('network_vis/edges_convertcsv.json') as f:\n",
    "#   data = json.load(f)\n",
    "\n",
    "# print(data)\n",
    "\n",
    "# jgraph.draw(data)\n",
    "\n",
    "number_of_steps = 5\n",
    "\n",
    "b_tree = [(1, 2), (1, 3)]\n",
    "index = 3\n",
    "for _ in range(number_of_steps):\n",
    "    leaves = [edge[1] for edge in b_tree if all(edge[1] != other_edge[0] for other_edge in b_tree)]\n",
    "    for leaf in leaves:\n",
    "        for __ in range(2):\n",
    "            index += 1\n",
    "            b_tree.append((leaf, index))\n",
    "jgraph.draw(b_tree, shader=\"lambert\", default_node_color=0x383294, z=200, size=(800, 600))\n",
    "\n",
    "\n",
    "\n",
    "with open('C:\\Temp\\disppage.htm','wb') as f:   # Use some reasonable temp name\n",
    "    f.write(htmlobj.html.encode(\"UTF-8\"))\n",
    "\n",
    "# open an HTML file on my own (Windows) computer\n",
    "url = r'C:\\Temp\\disppage.htm'\n",
    "webbrowser.open(url,new=2)"
   ]
  }
 ],
 "metadata": {
  "kernelspec": {
   "display_name": "Python 3",
   "language": "python",
   "name": "python3"
  },
  "language_info": {
   "codemirror_mode": {
    "name": "ipython",
    "version": 3
   },
   "file_extension": ".py",
   "mimetype": "text/x-python",
   "name": "python",
   "nbconvert_exporter": "python",
   "pygments_lexer": "ipython3",
   "version": "3.7.6"
  }
 },
 "nbformat": 4,
 "nbformat_minor": 4
}
